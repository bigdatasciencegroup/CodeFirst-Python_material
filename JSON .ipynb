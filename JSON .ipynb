{
 "cells": [
  {
   "cell_type": "markdown",
   "metadata": {},
   "source": [
    "# <font color= '#8968CD\t'> JSON </font>\n",
    "JSON is short for JavaScript Object Notation, and is a way to store information in an organized, easy-to-access manner. In a nutshell, it gives us a human-readable collection of data that we can access in a really logical manner."
   ]
  },
  {
   "cell_type": "markdown",
   "metadata": {
    "collapsed": true
   },
   "source": [
    "Take the following string with JSON data"
   ]
  },
  {
   "cell_type": "code",
   "execution_count": 1,
   "metadata": {
    "collapsed": false
   },
   "outputs": [],
   "source": [
    "json_string = '{\"first_name\": \"Tania\", \"last_name\":\"Allard\"}'"
   ]
  },
  {
   "cell_type": "markdown",
   "metadata": {},
   "source": [
    "We need to 'parse' the data first:\n"
   ]
  },
  {
   "cell_type": "code",
   "execution_count": 2,
   "metadata": {
    "collapsed": true
   },
   "outputs": [],
   "source": [
    "import json"
   ]
  },
  {
   "cell_type": "code",
   "execution_count": 3,
   "metadata": {
    "collapsed": false
   },
   "outputs": [],
   "source": [
    "parsed_json = json.loads(json_string)"
   ]
  },
  {
   "cell_type": "markdown",
   "metadata": {},
   "source": [
    "Now we can access this as a normal Python dictionary"
   ]
  },
  {
   "cell_type": "code",
   "execution_count": 4,
   "metadata": {
    "collapsed": false
   },
   "outputs": [
    {
     "data": {
      "text/plain": [
       "{'first_name': 'Tania', 'last_name': 'Allard'}"
      ]
     },
     "execution_count": 4,
     "metadata": {},
     "output_type": "execute_result"
    }
   ],
   "source": [
    "parsed_json"
   ]
  },
  {
   "cell_type": "code",
   "execution_count": 5,
   "metadata": {
    "collapsed": false
   },
   "outputs": [
    {
     "data": {
      "text/plain": [
       "dict_items([('last_name', 'Allard'), ('first_name', 'Tania')])"
      ]
     },
     "execution_count": 5,
     "metadata": {},
     "output_type": "execute_result"
    }
   ],
   "source": [
    "parsed_json.items()"
   ]
  },
  {
   "cell_type": "code",
   "execution_count": 6,
   "metadata": {
    "collapsed": false
   },
   "outputs": [
    {
     "data": {
      "text/plain": [
       "'Tania'"
      ]
     },
     "execution_count": 6,
     "metadata": {},
     "output_type": "execute_result"
    }
   ],
   "source": [
    "parsed_json.keys()\n",
    "parsed_json['first_name']"
   ]
  },
  {
   "cell_type": "markdown",
   "metadata": {},
   "source": [
    "# <font color= '#8968CD\t'> Packing and unpacking arguments </font>"
   ]
  },
  {
   "cell_type": "markdown",
   "metadata": {},
   "source": [
    "Ever wondered what the `*args` and `**kwargs` that you keep seeing in Python functions mean? I certainly did. \n",
    "\n",
    "That `*` and the `**` operators both perform two different, but complementary operations depending on where they're used. When used in a method definition, like so:"
   ]
  },
  {
   "cell_type": "code",
   "execution_count": 13,
   "metadata": {
    "collapsed": true
   },
   "outputs": [],
   "source": [
    "def __init__(self, *args, **kwargs):\n",
    "    pass"
   ]
  },
  {
   "cell_type": "markdown",
   "metadata": {},
   "source": [
    "They perform an operation called 'packing'. True to it's name, what this does is pack all the arguments that this method call receives into one single variable, a tuple called args. You can use any variable name you want, of course, but args seems to be the most common and Pythonic way of doing things.\n",
    "\n",
    "Once you have this 'packed' variable, you can do things with it that you would with a normal tuple. `args[0]` and `args[1]` would give you the first and second argument, respectively. If you convert the args tuple to a list you can also modify, delete and re-arrange items in it.\n",
    "\n",
    "So how do you pass these packed arguments to another method? Here's where unpacking comes in to play:"
   ]
  },
  {
   "cell_type": "code",
   "execution_count": 14,
   "metadata": {
    "collapsed": true
   },
   "outputs": [],
   "source": [
    "def __init__(self, *args, **kwargs):\n",
    "    # do some stuff\n",
    "    super(AwesomeClass, self).__init__(self, *args, **kwargs)\n",
    "    #                                            ^\n",
    "    #                                        LOOK HERE!"
   ]
  },
  {
   "cell_type": "markdown",
   "metadata": {},
   "source": [
    "So there's the same * operator again, but this time it's in the context of a method call. What it does now is explode the args array and call the method as if you'd typed in each variable separately.\n",
    "\n",
    "Here's another example that might make things a little more clear:"
   ]
  },
  {
   "cell_type": "code",
   "execution_count": 16,
   "metadata": {
    "collapsed": false
   },
   "outputs": [
    {
     "name": "stdout",
     "output_type": "stream",
     "text": [
      "Hello\n",
      "awesome\n",
      "world!\n"
     ]
    }
   ],
   "source": [
    "def func1(x, y, z):\n",
    "    print (x)\n",
    "    print (y) \n",
    "    print (z)                 \n",
    "\n",
    "def func2(*args):\n",
    "    # Convert args tuple to a list so we can modify it\n",
    "    args = list(args)\n",
    "    args[0] = 'Hello'\n",
    "    args[1] = 'awesome'\n",
    "    func1(*args)\n",
    "\n",
    "func2('Goodbye', 'cruel', 'world!')\n",
    "# Will print\n",
    "# > Hello\n",
    "# > awesome\n",
    "# > world!"
   ]
  },
  {
   "cell_type": "code",
   "execution_count": null,
   "metadata": {
    "collapsed": true
   },
   "outputs": [],
   "source": []
  }
 ],
 "metadata": {
  "kernelspec": {
   "display_name": "Python [default]",
   "language": "python",
   "name": "python3"
  },
  "language_info": {
   "codemirror_mode": {
    "name": "ipython",
    "version": 3
   },
   "file_extension": ".py",
   "mimetype": "text/x-python",
   "name": "python",
   "nbconvert_exporter": "python",
   "pygments_lexer": "ipython3",
   "version": "3.5.2"
  }
 },
 "nbformat": 4,
 "nbformat_minor": 2
}
